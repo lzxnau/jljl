{
 "cells": [
  {
   "cell_type": "markdown",
   "source": [
    "# 特殊关键字和符号"
   ],
   "metadata": {
    "collapsed": false
   },
   "id": "2b3798a96a45dfa4"
  },
  {
   "cell_type": "markdown",
   "source": [
    "## ::= Syntax 句法规则定义符"
   ],
   "metadata": {
    "collapsed": false
   },
   "id": "4cb1f1351e2cb194"
  },
  {
   "cell_type": "markdown",
   "source": [
    "1. Modified BNF grammar notation\n",
    "2. name ::= expression\n",
    "3. Symbol on the left must be replaced with the expression on the right\n",
    "4. []: group, none or once. *: none or more. +: one or more\n",
    "5. (): group, |: alternative, \"x\": literal character"
   ],
   "metadata": {
    "collapsed": false
   },
   "id": "de5182e82aead04e"
  },
  {
   "cell_type": "markdown",
   "source": [
    "## [Lexical analysis词法分析](https://docs.python.org/3/reference/lexical_analysis.html)"
   ],
   "metadata": {
    "collapsed": false
   },
   "id": "42db13ec94f1403e"
  },
  {
   "cell_type": "markdown",
   "source": [
    "1. Logical lines\n",
    "   + token NEWLINE\n",
    "   + Explicit line joining: \\\n",
    "   + Implicit line joining: (),[],{} 使用逗号分割成多行\n",
    "   + compound statements 复合声明可以跨越多行, 但是被看作一个logical line\n",
    "2. Indentation: grouping of statements\n",
    "3. Identifiers\n",
    "4. Keywords and Soft Keywords\n",
    "5. Literals\n",
    "   + String and Bytes literals 字符串和字节码\n",
    "   + 都可以使用''或\"\", 字节码以b或B开头, b''或B\"\"\n",
    "   + 前缀r或R是raw格式, 不接受escape转义\n",
    "   + 前缀f或F只支持字符串, 称为f字符串-格式化字符串: f\"abc{x}\"\n",
    "6. Operators\n",
    "7. Delimiters\n",
    "8. 非法字符: 字符串以外的$, ?, `"
   ],
   "metadata": {
    "collapsed": false
   },
   "id": "eaf4b6191532f666"
  },
  {
   "cell_type": "code",
   "execution_count": 3,
   "outputs": [
    {
     "name": "stdout",
     "output_type": "stream",
     "text": [
      "3\n"
     ]
    }
   ],
   "source": [
    "a = dict(x=3)\n",
    "print(a['x'])"
   ],
   "metadata": {
    "collapsed": false,
    "ExecuteTime": {
     "end_time": "2023-10-19T06:58:36.133131Z",
     "start_time": "2023-10-19T06:58:36.070561Z"
    }
   },
   "id": "7ed5648282b403ed"
  },
  {
   "cell_type": "markdown",
   "source": [
    "## := Assignment Expression 表达式赋值符"
   ],
   "metadata": {
    "collapsed": false
   },
   "id": "6a0ec906c20e2c36"
  },
  {
   "cell_type": "markdown",
   "source": [
    "1. identifier := assignment_expression\n",
    "2. 把表达式赋值给标识符, 节省了单次或循环多次的赋值操作\n",
    "3. 只要是把赋值, 条件判断, 执行后续表达式的输入参数合并到一起\n",
    "4. 需要括号()封装的操作\n",
    "   + slicing\n",
    "   + conditional\n",
    "   + lambda\n",
    "   + keyword-argument\n",
    "   + comprehension-if expressions\n",
    "   + assert statement\n",
    "   + with statement"
   ],
   "metadata": {
    "collapsed": false
   },
   "id": "21e069a25e5c0fd6"
  },
  {
   "cell_type": "code",
   "execution_count": 1,
   "outputs": [
    {
     "name": "stdout",
     "output_type": "stream",
     "text": [
      "[[0, 1], [2, 3], [4, 5], [6, 7], [8, 9]]\n",
      "[[2, 3], [4, 5]]\n"
     ]
    }
   ],
   "source": [
    "if ae1 := [[ae2 := ae3 * 2, ae2 + 1] for ae3 in range(5)]:\n",
    "  print(ae1)\n",
    "ae4 = 1\n",
    "print(ae1[1:(ae5 := ae4 + 2)])"
   ],
   "metadata": {
    "collapsed": false,
    "ExecuteTime": {
     "end_time": "2023-10-19T05:37:23.591765Z",
     "start_time": "2023-10-19T05:37:23.511385Z"
    }
   },
   "id": "699a6de63b12ff30"
  },
  {
   "cell_type": "markdown",
   "source": [
    "## ... 省略号"
   ],
   "metadata": {
    "collapsed": false
   },
   "id": "ca331abf4df0c30a"
  },
  {
   "cell_type": "code",
   "execution_count": 2,
   "outputs": [
    {
     "name": "stdout",
     "output_type": "stream",
     "text": [
      "[[1 2 3]\n",
      " [4 5 6]]\n",
      "[[1 2 3]\n",
      " [4 5 6]]\n",
      "()\n",
      "(1,)\n",
      "(4, 5, 6, 99)\n"
     ]
    },
    {
     "data": {
      "text/plain": "3"
     },
     "execution_count": 2,
     "metadata": {},
     "output_type": "execute_result"
    }
   ],
   "source": [
    "# 1. 取代pass, 作为语句块的省略\n",
    "class Test:\n",
    "  pass\n",
    "\n",
    "\n",
    "# 2. 用于赋值省略\n",
    "x = ...\n",
    "\n",
    "# 3. 用于numpy ndarray数组取某一维的全部值, ...这里和无左右值的:类似\n",
    "import numpy as np\n",
    "\n",
    "a = np.array([[1, 2, 3], [4, 5, 6]])\n",
    "b = a[..., :]  # 这里逗号左右作用相同\n",
    "print(b)\n",
    "c = a[:, (0, 1, 2)]  # ...相当于某一维的索引全部输入成为tuple\n",
    "print(c)\n",
    "\n",
    "# 4. 用于类型提示Type Hints\n",
    "# 4.1 用于tuple\n",
    "numbers: tuple[int, ...]\n",
    "\n",
    "# Allowed:\n",
    "numbers = ()\n",
    "print(numbers)\n",
    "numbers = (1,)\n",
    "print(numbers)\n",
    "numbers = (4, 5, 6, 99)\n",
    "print(numbers)\n",
    "\n",
    "# 4.2 用于callable\n",
    "from typing import Callable\n",
    "\n",
    "\n",
    "def add_one(i: int) -> int:\n",
    "  return i + 1\n",
    "\n",
    "\n",
    "def multiply_with(i: int, j: int) -> int:\n",
    "  return i * j\n",
    "\n",
    "\n",
    "# Callable[..., int] 接受多个参数, 最后一个为返回值为int\n",
    "def calculate(i: int, action: Callable[..., int], *args: int) -> int:\n",
    "  return action(i, *args)\n",
    "\n",
    "\n",
    "# Works:\n",
    "calculate(1, add_one)\n",
    "calculate(1, multiply_with, 3)"
   ],
   "metadata": {
    "collapsed": false,
    "ExecuteTime": {
     "end_time": "2023-10-19T05:37:32.046848Z",
     "start_time": "2023-10-19T05:37:23.511950Z"
    }
   },
   "id": "8c86436df715485c"
  },
  {
   "cell_type": "markdown",
   "source": [
    "## *, ** iterable packing and unpacking 枚举类型自动打包和解包符号"
   ],
   "metadata": {
    "collapsed": false
   },
   "id": "10a27d4ea9987367"
  },
  {
   "cell_type": "markdown",
   "source": [
    "1. *针对集合, **针对dict字典\n",
    "2. 函数声明中的型参带*或**为自动打包对象, 打包到一个型参\n",
    "3. 函数调用中的实参带*或**为自动解包对象, 解包成多个实参\n",
    "4. 表达式声明中的starred为能够自动解包的集合结构\n",
    "5. 表达式句法定义中的(x \",\")*代表零个或多个x代表的内容"
   ],
   "metadata": {
    "collapsed": false
   },
   "id": "44251369e470e1e3"
  }
 ],
 "metadata": {
  "kernelspec": {
   "display_name": "Python 3",
   "language": "python",
   "name": "python3"
  },
  "language_info": {
   "codemirror_mode": {
    "name": "ipython",
    "version": 2
   },
   "file_extension": ".py",
   "mimetype": "text/x-python",
   "name": "python",
   "nbconvert_exporter": "python",
   "pygments_lexer": "ipython2",
   "version": "2.7.6"
  }
 },
 "nbformat": 4,
 "nbformat_minor": 5
}
