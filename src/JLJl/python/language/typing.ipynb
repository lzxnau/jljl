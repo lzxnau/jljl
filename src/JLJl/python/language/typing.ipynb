{
 "cells": [
  {
   "cell_type": "markdown",
   "source": [
    "# [Typing类型提示](https://docs.python.org/3/library/typing.html)"
   ],
   "metadata": {
    "collapsed": false
   },
   "id": "7e0e77022bb2735f"
  },
  {
   "cell_type": "markdown",
   "source": [
    "## [Generics泛型](https://docs.python.org/3/library/typing.html#generics)"
   ],
   "metadata": {
    "collapsed": false
   },
   "id": "ce19a337e203fb39"
  },
  {
   "cell_type": "markdown",
   "source": [
    "### [TypeVar类型变量](https://docs.python.org/3/library/typing.html#typing.TypeVar) 和 [Type Parameter Syntax](https://docs.python.org/3/reference/compound_stmts.html#type-params)"
   ],
   "metadata": {
    "collapsed": false
   },
   "id": "b9a371e8f9e80210"
  },
  {
   "cell_type": "markdown",
   "source": [
    "1. class typing.TypeVar(name, *constraints, bound=None,\n",
    "     covariant=False, contravariant=False, infer_variance=False)\n",
    "2. name: 类型变量名称字符串. 这个变量代表了某种自定义的类型\n",
    "3. *constraints: 多个类型依次输入构成tuple, 不能只有一个束约\n",
    "4. bound: 可以使用多个类型的Union\n",
    "5. bound和constraints不能同时使用\n",
    "6. covariant: 接受子类类型. 缺省不接受\n",
    "7. contravariant: 接受父类类型. 缺省不接受\n",
    "8. invariant: 缺省时不接受父类和子类. bound接受子类\n",
    "9. infer_variance: \n",
    "10. TypeVar声明的类型变量主要是用于限定类型的泛型\n",
    "11. 3.12以后这个由Type Parameter Syntax取代大部分功能"
   ],
   "metadata": {
    "collapsed": false
   },
   "id": "9f3d5cfbf582a0ba"
  },
  {
   "cell_type": "code",
   "execution_count": null,
   "id": "1710bd4c28c4e0f9",
   "metadata": {
    "collapsed": false
   },
   "outputs": [],
   "source": [
    "# 3.12 new feature\n",
    "# Type Parameter Syntax\n",
    "\n",
    "# Generics Class\n",
    "\n",
    "# T is a TypeVar\n",
    "class Sequence[T]:\n",
    "  ...\n",
    "\n",
    "\n",
    "# S is a TypeVar bound to str\n",
    "class StrSequence[S: str]:\n",
    "  ...\n",
    "\n",
    "\n",
    "# A is a TypeVar constrained to str or bytes (tuple)\n",
    "class StrOrBytesSequence[A: (str, bytes)]:\n",
    "  ...\n",
    "\n",
    "\n",
    "# Generics Function\n",
    "\n",
    "def repeat[T](x: T, n: int) -> Sequence[T]:\n",
    "  \"\"\"Return a list containing n references to x.\"\"\"\n",
    "  return [x] * n\n",
    "\n",
    "\n",
    "def print_capitalized[S: str](x: S) -> S:\n",
    "  \"\"\"Print x capitalized, and return x.\"\"\"\n",
    "  print(x.capitalize())\n",
    "  return x\n",
    "\n",
    "\n",
    "def concatenate[A: (str, bytes)](x: A, y: A) -> A:\n",
    "  \"\"\"Add two strings or bytes objects together.\"\"\"\n",
    "  return x + y\n",
    "\n",
    "\n",
    "# TypeVar\n",
    "from typing import TypeVar\n",
    "\n",
    "T = TypeVar('T')  # Can be anything\n",
    "S = TypeVar('S', bound=str)  # Can be any subtype of str\n",
    "A = TypeVar('A', str, bytes)  # Must be exactly str or bytes"
   ]
  }
 ],
 "metadata": {
  "kernelspec": {
   "display_name": "Python 3 (ipykernel)",
   "language": "python",
   "name": "python3"
  },
  "language_info": {
   "codemirror_mode": {
    "name": "ipython",
    "version": 3
   },
   "file_extension": ".py",
   "mimetype": "text/x-python",
   "name": "python",
   "nbconvert_exporter": "python",
   "pygments_lexer": "ipython3",
   "version": "3.11.6"
  }
 },
 "nbformat": 4,
 "nbformat_minor": 5
}
