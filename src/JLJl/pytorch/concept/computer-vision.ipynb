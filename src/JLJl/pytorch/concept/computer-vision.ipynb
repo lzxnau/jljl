{
 "cells": [
  {
   "cell_type": "markdown",
   "id": "5cd009575ade8e6",
   "metadata": {
    "collapsed": false
   },
   "source": [
    "# Computer Vision"
   ]
  },
  {
   "cell_type": "markdown",
   "id": "486ce9e121e25989",
   "metadata": {
    "collapsed": false
   },
   "source": [
    "## Image Classification"
   ]
  },
  {
   "cell_type": "markdown",
   "id": "4350596d3d4ecaa2",
   "metadata": {
    "collapsed": false
   },
   "source": [
    "### Build a data pipeline for loading images"
   ]
  },
  {
   "cell_type": "markdown",
   "id": "3a5910114ac67d29",
   "metadata": {
    "collapsed": false
   },
   "source": [
    "Build a pipeline to load, preprocess and feed the images to the neural network \n",
    "in batches (instead of all at once)"
   ]
  },
  {
   "cell_type": "markdown",
   "id": "1b884953cb344d8e",
   "metadata": {
    "collapsed": false
   },
   "source": [
    "#### CLASS torch.utils.data.Dataset(*args, **kwds)"
   ]
  },
  {
   "cell_type": "markdown",
   "id": "843c0a253fba9c4",
   "metadata": {
    "collapsed": false
   },
   "source": [
    "1. An abstract class representing a Dataset\n",
    "2. A datasets that represent a map from keys to data samples\n",
    "3. Overwrite __getitem__(), supporting fetching a data sample for a given key \n",
    "4. Overwrite __len__(), optionally\n",
    "   + Return the size of the dataset\n",
    "   + Using by Sampler and DataLoader\n",
    "5. Implement __getitems__(), optionally\n",
    "   + For speedup batched samples loading\n",
    "   + Accepts list of indices of samples of batch\n",
    "   + Returns list of samples"
   ]
  },
  {
   "cell_type": "code",
   "execution_count": null,
   "outputs": [],
   "source": [
    "from torch.utils.data import Dataset\n",
    "\n",
    "\n",
    "class CustomDataset(Dataset):\n",
    "  \n",
    "  def __init__(self, df):\n",
    "    # Initialize anything you need later here ...\n",
    "    self.df = df\n",
    "    self.X = ...\n",
    "    self.y = ...\n",
    "  \n",
    "  # Get the number of rows in the dataset\n",
    "  def __len__(self):\n",
    "    return len(self.df)\n",
    "  \n",
    "  # Get a sample of the dataset\n",
    "  def __getitem__(self, idx):\n",
    "    return [self.X[idx], self.y[idx]]"
   ],
   "metadata": {
    "collapsed": false
   },
   "id": "cf2ad17a52bf3a7"
  },
  {
   "cell_type": "markdown",
   "id": "a567c875f4a133e9",
   "metadata": {
    "collapsed": false
   },
   "source": [
    "#### torch.utils.data.DataLoader"
   ]
  },
  {
   "cell_type": "markdown",
   "id": "51c69b22466722bc",
   "metadata": {
    "collapsed": false
   },
   "source": [
    "## Object Detection"
   ]
  },
  {
   "cell_type": "markdown",
   "id": "e521d4e0e87ba291",
   "metadata": {
    "collapsed": false
   },
   "source": [
    "## Semantic Segmentation"
   ]
  },
  {
   "cell_type": "markdown",
   "id": "458830c5becb1427",
   "metadata": {
    "collapsed": false
   },
   "source": [
    "## Instance Segmentation"
   ]
  },
  {
   "cell_type": "markdown",
   "id": "923fd0006a7aeb7b",
   "metadata": {
    "collapsed": false
   },
   "source": [
    "## Face Recognition"
   ]
  }
 ],
 "metadata": {
  "kernelspec": {
   "display_name": "Python 3 (ipykernel)",
   "language": "python",
   "name": "python3"
  },
  "language_info": {
   "codemirror_mode": {
    "name": "ipython",
    "version": 3
   },
   "file_extension": ".py",
   "mimetype": "text/x-python",
   "name": "python",
   "nbconvert_exporter": "python",
   "pygments_lexer": "ipython3",
   "version": "3.11.6"
  }
 },
 "nbformat": 4,
 "nbformat_minor": 5
}
