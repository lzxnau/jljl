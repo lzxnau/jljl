{
 "cells": [
  {
   "cell_type": "markdown",
   "id": "8d0bf38d623752f1",
   "metadata": {
    "collapsed": false
   },
   "source": [
    "### Neural Network"
   ]
  },
  {
   "cell_type": "code",
   "execution_count": 1,
   "id": "bdfed705f62324c3",
   "metadata": {
    "collapsed": false,
    "ExecuteTime": {
     "end_time": "2023-10-15T12:45:21.890287Z",
     "start_time": "2023-10-15T12:45:07.421336Z"
    }
   },
   "outputs": [
    {
     "name": "stdout",
     "output_type": "stream",
     "text": [
      "Net(\n",
      "  (conv1): Conv2d(1, 6, kernel_size=(5, 5), stride=(1, 1))\n",
      "  (conv2): Conv2d(6, 16, kernel_size=(5, 5), stride=(1, 1))\n",
      "  (fc1): Linear(in_features=400, out_features=120, bias=True)\n",
      "  (fc2): Linear(in_features=120, out_features=84, bias=True)\n",
      "  (fc3): Linear(in_features=84, out_features=10, bias=True)\n",
      ")\n"
     ]
    }
   ],
   "source": [
    "# Define The Neural Network - Module\n",
    "import torch\n",
    "import torch.nn as nn\n",
    "import torch.nn.functional as f\n",
    "\n",
    "\n",
    "class Net(nn.Module):\n",
    "  \n",
    "  def __init__(self):\n",
    "    super(Net, self).__init__()\n",
    "    # 1 input image channel, 6 output channels, 5x5 square convolution kernel\n",
    "    self.conv1 = nn.Conv2d(1, 6, 5)\n",
    "    self.conv2 = nn.Conv2d(6, 16, 5)\n",
    "    # an affine operation: y = Wx + b\n",
    "    self.fc1 = nn.Linear(16 * 5 * 5, 120)  # 5*5 from image dimension\n",
    "    self.fc2 = nn.Linear(120, 84)\n",
    "    self.fc3 = nn.Linear(84, 10)\n",
    "  \n",
    "  def forward(self, x):\n",
    "    # Max pooling over a (2, 2) window\n",
    "    x = f.max_pool2d(f.relu(self.conv1(x)), (2, 2))\n",
    "    # If the size is a square, you can specify with a single number\n",
    "    x = f.max_pool2d(f.relu(self.conv2(x)), 2)\n",
    "    x = torch.flatten(x, 1)  # flatten all dimensions except the batch dimension\n",
    "    x = f.relu(self.fc1(x))\n",
    "    x = f.relu(self.fc2(x))\n",
    "    x = self.fc3(x)\n",
    "    return x\n",
    "\n",
    "\n",
    "net = Net()\n",
    "print(net)"
   ]
  },
  {
   "cell_type": "code",
   "execution_count": 6,
   "id": "c34843b4ec769193",
   "metadata": {
    "collapsed": false,
    "ExecuteTime": {
     "end_time": "2023-10-10T07:03:40.578323Z",
     "start_time": "2023-10-10T07:03:40.495048Z"
    }
   },
   "outputs": [
    {
     "data": {
      "text/plain": "tensor([-0.1813,  1.4334, -0.0969], grad_fn=<AddBackward0>)"
     },
     "execution_count": 6,
     "metadata": {},
     "output_type": "execute_result"
    }
   ],
   "source": [
    "class MyLinear(nn.Module):\n",
    "  \n",
    "  def __init__(self, in_features, out_features):\n",
    "    super().__init__()\n",
    "    self.weight = nn.Parameter(torch.randn(in_features, out_features))\n",
    "    self.bias = nn.Parameter(torch.randn(out_features))\n",
    "  \n",
    "  def forward(self, myinput):\n",
    "    return (myinput @ self.weight) + self.bias\n",
    "\n",
    "\n",
    "m = MyLinear(4, 3)\n",
    "sample_input = torch.randn(4)\n",
    "m(sample_input)"
   ]
  },
  {
   "cell_type": "code",
   "execution_count": 5,
   "outputs": [],
   "source": [],
   "metadata": {
    "collapsed": false,
    "ExecuteTime": {
     "end_time": "2023-10-10T07:02:29.089463Z",
     "start_time": "2023-10-10T07:02:29.078670Z"
    }
   },
   "id": "8cb0d81cb8337fc1"
  }
 ],
 "metadata": {
  "kernelspec": {
   "display_name": "Python 3 (ipykernel)",
   "language": "python",
   "name": "python3"
  },
  "language_info": {
   "codemirror_mode": {
    "name": "ipython",
    "version": 3
   },
   "file_extension": ".py",
   "mimetype": "text/x-python",
   "name": "python",
   "nbconvert_exporter": "python",
   "pygments_lexer": "ipython3",
   "version": "3.11.6"
  }
 },
 "nbformat": 4,
 "nbformat_minor": 5
}
