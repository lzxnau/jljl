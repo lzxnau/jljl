{
 "cells": [
  {
   "cell_type": "markdown",
   "id": "c8b6fc36-b1ea-46ad-80f4-c7ea6f28f63e",
   "metadata": {
    "collapsed": false,
    "editable": false,
    "slideshow": {
     "slide_type": ""
    },
    "tags": []
   },
   "source": [
    "### Tensor\n",
    "\n",
    "#### 数组结构\n",
    "<table style=\"margin-left:5px;border:2px solid white;\">\n",
    "<tr>\n",
    "<th style=\"border:1px solid white;\">语言包</th>\n",
    "<th style=\"border:1px solid white;\">数据类型</th>\n",
    "<th style=\"border:1px solid white;\">说明</th>\n",
    "</tr>\n",
    "<tr>\n",
    "<td style=\"border:1px solid white;\">python</td>\n",
    "<td style=\"border:1px solid white;\">list</td>\n",
    "<td style=\"border:1px solid white;\">语言优化</td>\n",
    "</tr>\n",
    "<tr>\n",
    "<td style=\"border:1px solid white;\">numpy</td>\n",
    "<td style=\"border:1px solid white;\">ndarray</td>\n",
    "<td style=\"border:1px solid white;\">大数据优化</td>\n",
    "</tr>\n",
    "<tr>\n",
    "<td style=\"border:1px solid white;\">pytorch</td>\n",
    "<td style=\"border:1px solid white;\">tensor</td>\n",
    "<td style=\"border:1px solid white;\">神经网络优化</td>\n",
    "</tr>\n",
    "</table>"
   ]
  },
  {
   "cell_type": "code",
   "execution_count": 3,
   "id": "f52aeee0cac3968c",
   "metadata": {
    "collapsed": false,
    "ExecuteTime": {
     "end_time": "2023-10-08T11:25:49.549194Z",
     "start_time": "2023-10-08T11:25:49.494984Z"
    }
   },
   "outputs": [
    {
     "data": {
      "text/plain": "tensor([[0.3816, 0.9221, 0.6266, 0.9310],\n        [0.0525, 0.8428, 0.4172, 0.2413],\n        [0.5279, 0.7994, 0.4481, 0.3400],\n        [0.1189, 0.5796, 0.1775, 0.7212]])"
     },
     "execution_count": 3,
     "metadata": {},
     "output_type": "execute_result"
    }
   ],
   "source": [
    "import torch\n",
    "\n",
    "torch.rand(4, 4)"
   ]
  },
  {
   "cell_type": "code",
   "execution_count": 3,
   "id": "f8145bf7-ea08-453f-9b2f-72a73aded7bb",
   "metadata": {
    "ExecuteTime": {
     "end_time": "2023-10-08T11:25:49.549400Z",
     "start_time": "2023-10-08T11:25:49.500004Z"
    }
   },
   "outputs": [],
   "source": []
  }
 ],
 "metadata": {
  "kernelspec": {
   "display_name": "Python 3 (ipykernel)",
   "language": "python",
   "name": "python3"
  },
  "language_info": {
   "codemirror_mode": {
    "name": "ipython",
    "version": 3
   },
   "file_extension": ".py",
   "mimetype": "text/x-python",
   "name": "python",
   "nbconvert_exporter": "python",
   "pygments_lexer": "ipython3",
   "version": "3.11.5"
  }
 },
 "nbformat": 4,
 "nbformat_minor": 5
}
