{
 "cells": [
  {
   "cell_type": "markdown",
   "id": "e0edd4c4ead33f27",
   "metadata": {
    "collapsed": false
   },
   "source": [
    "# [Expressions表达式](https://docs.python.org/3.11/reference/expressions.html#)"
   ]
  },
  {
   "cell_type": "markdown",
   "id": "5393eb1081dd84a4",
   "metadata": {
    "collapsed": false
   },
   "source": [
    "+ python是翻译解释型语言, python是逐句翻译解析程序代码\n",
    "+ 从syntax句法上来说, expression表达式是形成python句子结构的定义\n",
    "+ python翻译解释evaluate表达式expression的各个部分来最终构成运行expression的代码"
   ]
  },
  {
   "cell_type": "markdown",
   "id": "1866cda4a971e2c",
   "metadata": {
    "collapsed": false,
    "jp-MarkdownHeadingCollapsed": true
   },
   "source": [
    "## [Atoms表达式基础单元](https://docs.python.org/3/reference/expressions.html#atoms)"
   ]
  },
  {
   "cell_type": "markdown",
   "id": "eaac65c9dc4b300",
   "metadata": {
    "collapsed": false
   },
   "source": [
    "+ identifier 标识符\n",
    "+ literal 字面量\n",
    "+ enclosure 括号封装结构\n",
    "  - Parenthesized forms 表达式列表封装 expression list\n",
    "  - List displays\n",
    "  - Set displays\n",
    "  - Dictionary displays\n",
    "  - Generator expressions\n",
    "  - Yield expressions"
   ]
  },
  {
   "cell_type": "markdown",
   "id": "5bef1833c1593639",
   "metadata": {
    "collapsed": false
   },
   "source": [
    "### [Identifier标识符](https://docs.python.org/3/reference/expressions.html#atom-identifiers)"
   ]
  },
  {
   "cell_type": "markdown",
   "id": "5bbd7f39e704a054",
   "metadata": {
    "collapsed": false
   },
   "source": [
    "identifier标识符, name名字, object对象, 之间的关系\n",
    "+ python的object是一个atom概念\n",
    "+ 当identifier作为代表object的atom出现时, identifier就成为代表object的name\n",
    "+ name需要和对应的object绑定binding\n",
    "+ 当python翻译解释evaluate某个identifier时, 系统会在内存生成该object的代码段(实例)"
   ]
  },
  {
   "cell_type": "markdown",
   "id": "bbde2c4c7a6f5c74",
   "metadata": {
    "collapsed": false
   },
   "source": [
    "### [Literals字面量](https://docs.python.org/3/reference/expressions.html#literals)"
   ]
  },
  {
   "cell_type": "markdown",
   "id": "e3f73e183ed78faa",
   "metadata": {
    "collapsed": false
   },
   "source": [
    "+ literal是文字字面代表的该类型某个值的一个对象\n",
    "  - string 字符串\n",
    "  - bytes  字节码\n",
    "  - Numeric literals 数值型\n",
    "    * integer 整数值, 包括二进制, 八进制, 十进制, 十六进制\n",
    "    * floating point 浮点数\n",
    "    * imaginary 虚数, 数值 + \"j\"或\"J\" 代表虚数字面量\n",
    "    * 没有单独的实数Complex字面量\n",
    "+ evaluate翻译解释literal字面量会在内存生成对应类型对应值的object对象代码记录\n",
    "+ 所有literal对应的object都是immutable data types不可变数据类型\n",
    "+ 不同平台根据性能的优化, 同样值的literal可能调用同一个或不同的内存对象\n",
    "+ 针对literal的操作在内存中会产生新的不可变的literal对象\n",
    "+ 对于literal对象的identifier, 不能作为常规对象地址存储来引用\n",
    "+ 集合类型tuple也是不可修改类型, tuple对象本身的地址引用和literal一样"
   ]
  },
  {
   "cell_type": "code",
   "execution_count": 4,
   "outputs": [
    {
     "name": "stdout",
     "output_type": "stream",
     "text": [
      "Ellipsis\n"
     ]
    }
   ],
   "source": [
    "x = ...\n",
    "print(x)"
   ],
   "metadata": {
    "collapsed": false,
    "ExecuteTime": {
     "end_time": "2023-10-24T09:00:53.809250Z",
     "start_time": "2023-10-24T09:00:53.777793Z"
    }
   },
   "id": "95d80807210a06ed"
  },
  {
   "cell_type": "markdown",
   "id": "d5194a6e3200e0c4",
   "metadata": {
    "collapsed": false
   },
   "source": [
    "### [Parenthesized forms表达式列表](https://docs.python.org/3/reference/expressions.html#parenthesized-forms)"
   ]
  },
  {
   "cell_type": "markdown",
   "id": "4989eab35c18da3c",
   "metadata": {
    "collapsed": false
   },
   "source": [
    "parenth_form ::=  \"(\" [starred_expression] \")\"\n",
    "1. 代表可选的expression list\n",
    "2. starred代表可以自动解包的集合, 也就是expression list解包成多个expression\n",
    "3. 形成在tuple结构中的多个expression"
   ]
  },
  {
   "cell_type": "markdown",
   "id": "8367ecd4895083d7",
   "metadata": {
    "collapsed": false
   },
   "source": []
  },
  {
   "cell_type": "markdown",
   "id": "249a87f82bb44630",
   "metadata": {
    "collapsed": false
   },
   "source": [
    "## [Primaries语言基本操作](https://docs.python.org/3.11/reference/expressions.html#primaries)"
   ]
  },
  {
   "cell_type": "markdown",
   "source": [
    "primary ::=  atom | attributeref | subscription | slicing | call\n",
    "1. atom: 生成运行时object, 是单一object返回, python语言基本单元\n",
    "2. attributeref ::=  primary \".\" identifier\n",
    "   + 对象属性引用\n",
    "   + 对象类型实现或者重载--getattr--()方法就支持属性引用功能\n",
    "   + 大部分类型对象都支持属性引用功能\n",
    "   + 生成运行时object属性引用的object, 是单一object返回\n",
    "   + 重载--getattr--()方法\n",
    "     - 只支持无参数输入\n",
    "     - 可以支持在方法内部数据处理\n",
    "     - 可以返回指定的单一object \n",
    "3. subscription ::=  primary \"[\" expression_list \"]\"\n",
    "   + 对象订阅功能\n",
    "   + 对象类型实现或重载--getitem--()方法就支持订阅功能\n",
    "   + 支持订阅功能的built-in类型\n",
    "     - Mappings: 支持用key取得订阅的内部object, 例如dict\n",
    "     - Sequences: 支持用int索引取得订阅的内部object, 例如str, list, tuple\n",
    "   + 生成运行时object被订阅的object, 是单一object返回\n",
    "   + 重载--getitem--()方法\n",
    "     - 可以支持复杂参数输入\n",
    "     - 可以支持在方法内部数据处理\n",
    "     - 可以返回指定的单一object\n",
    "4. slicing ::=  primary \"[\" slice_list \"]\"\n",
    "   + 对象切片功能\n",
    "   + 只有Sequences类型支持对象切片功能\n",
    "   + 使用\",\"形成tuple用于取得多维的切片\n",
    "   + list和tuple都只能取一维的切片\n",
    "   + [lower_bound] \":\" [upper_bound] [ \":\" [stride] ]\n",
    "   + 使用\" : : \"来取得一维中的切片\n",
    "5. call ::=  primary \"(\" [argument_list [\",\"] | comprehension] \")\"\n",
    "   + 对象函数调用\n",
    "   + argument_list后的逗号是可选的trailing comma\n",
    "   + 实现--call--()的对象为callable object, 都可以运行对象函数调用来返回新的object\n",
    "      "
   ],
   "metadata": {
    "collapsed": false
   },
   "id": "1472a6e0e03c251c"
  },
  {
   "cell_type": "markdown",
   "id": "75692bb92849684e",
   "metadata": {
    "collapsed": false
   },
   "source": [
    "## [Assignment expressions赋值表达式](https://docs.python.org/3/reference/expressions.html#assignment-expressions)"
   ]
  },
  {
   "cell_type": "markdown",
   "id": "c588d0fe5162bcc8",
   "metadata": {
    "collapsed": false
   },
   "source": [
    "assignment_expression ::=  [identifier \":=\"] expression\n",
    "1. identifier := assignment_expression\n",
    "2. 把表达式赋值给标识符, 节省了单次或循环多次的赋值操作\n",
    "3. 只要是把赋值, 条件判断, 执行后续表达式的输入参数合并到一起\n",
    "4. 需要括号()封装的操作\n",
    "   + slicing\n",
    "   + conditional\n",
    "   + lambda\n",
    "   + keyword-argument\n",
    "   + comprehension-if expressions\n",
    "   + assert statement\n",
    "   + with statement"
   ]
  },
  {
   "cell_type": "code",
   "execution_count": 5,
   "id": "ebfb318e5df990dc",
   "metadata": {
    "collapsed": false,
    "ExecuteTime": {
     "end_time": "2023-10-24T09:00:53.810187Z",
     "start_time": "2023-10-24T09:00:53.790743Z"
    }
   },
   "outputs": [
    {
     "name": "stdout",
     "output_type": "stream",
     "text": [
      "[[0, 1], [2, 3], [4, 5], [6, 7], [8, 9]]\n",
      "[[2, 3], [4, 5]]\n"
     ]
    }
   ],
   "source": [
    "if ae1 := [[ae2 := ae3 * 2, ae2 + 1] for ae3 in range(5)]:\n",
    "  print(ae1)\n",
    "ae4 = 1\n",
    "print(ae1[1:(ae5 := ae4 + 2)])"
   ]
  },
  {
   "cell_type": "markdown",
   "id": "86b6d19fc6015f3f",
   "metadata": {
    "collapsed": false
   },
   "source": []
  },
  {
   "cell_type": "markdown",
   "id": "8af07635ade4dfee",
   "metadata": {
    "collapsed": false
   },
   "source": [
    "## [Boolean operations布尔操作](https://docs.python.org/3/reference/expressions.html#boolean-operations)"
   ]
  },
  {
   "cell_type": "markdown",
   "id": "ec7bf519d6ae17d5",
   "metadata": {
    "collapsed": false
   },
   "source": [
    "+ Boolean operations和flow control expression的返回值为False的条件\n",
    "  - False, None\n",
    "  - Numeric zero of all types\n",
    "  - Empty strings\n",
    "  - Empty containers\n",
    "    * tuples, lists, dicts, sets, frozensets\n",
    "+ User-defined objects can customize --bool--() method的返回\n",
    "+ Boolean判断从左到右进行, 根据and或or来确定是否继续判断下一个\n",
    "+ 判断停止的最后一个判断条件结果就是返回值, 通常这用于给空值赋缺省值\n",
    "+ not起到结果反转的作用, 同时返回值变成由not反转而来的True或False"
   ]
  },
  {
   "cell_type": "code",
   "execution_count": 6,
   "id": "2ad2847023d61cea",
   "metadata": {
    "collapsed": false,
    "ExecuteTime": {
     "end_time": "2023-10-24T09:00:53.898987Z",
     "start_time": "2023-10-24T09:00:53.799991Z"
    }
   },
   "outputs": [
    {
     "name": "stdout",
     "output_type": "stream",
     "text": [
      "(1,)\n"
     ]
    }
   ],
   "source": [
    "s = ''\n",
    "if s := s or (1,):\n",
    "  print(s)"
   ]
  },
  {
   "cell_type": "code",
   "execution_count": 6,
   "id": "e5fe3a7d528dbffb",
   "metadata": {
    "collapsed": false,
    "ExecuteTime": {
     "end_time": "2023-10-24T09:00:53.899226Z",
     "start_time": "2023-10-24T09:00:53.802902Z"
    }
   },
   "outputs": [],
   "source": []
  },
  {
   "cell_type": "code",
   "execution_count": 6,
   "id": "a77d913303575c97",
   "metadata": {
    "collapsed": false,
    "ExecuteTime": {
     "end_time": "2023-10-24T09:00:53.899630Z",
     "start_time": "2023-10-24T09:00:53.806319Z"
    }
   },
   "outputs": [],
   "source": []
  }
 ],
 "metadata": {
  "kernelspec": {
   "display_name": "Python 3 (ipykernel)",
   "language": "python",
   "name": "python3"
  },
  "language_info": {
   "codemirror_mode": {
    "name": "ipython",
    "version": 3
   },
   "file_extension": ".py",
   "mimetype": "text/x-python",
   "name": "python",
   "nbconvert_exporter": "python",
   "pygments_lexer": "ipython3",
   "version": "3.11.6"
  }
 },
 "nbformat": 4,
 "nbformat_minor": 5
}
