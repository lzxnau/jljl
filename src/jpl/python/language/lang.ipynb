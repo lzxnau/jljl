{
 "cells": [
  {
   "cell_type": "markdown",
   "source": [
    "# Python语言核心总结"
   ],
   "metadata": {
    "collapsed": false
   },
   "id": "929ef92d4b4205d"
  },
  {
   "cell_type": "markdown",
   "source": [
    "## [Primaries语言基本操作](https://docs.python.org/3.11/reference/expressions.html#primaries)"
   ],
   "metadata": {
    "collapsed": false
   },
   "id": "ff03cd9021a1bf07"
  },
  {
   "cell_type": "markdown",
   "source": [
    "primary ::=  atom | attributeref | subscription | slicing | call\n",
    "1. atom: 生成运行时object, 是单一object返回, python语言基本单元\n",
    "2. attributeref ::=  primary \".\" identifier\n",
    "   + 对象属性引用\n",
    "   + 对象类型实现或者重载--getattr--()方法就支持属性引用功能\n",
    "   + 大部分类型对象都支持属性引用功能\n",
    "   + 生成运行时object属性引用的object, 是单一object返回\n",
    "   + 重载--getattr--()方法\n",
    "     - 只支持无参数输入\n",
    "     - 可以支持在方法内部数据处理\n",
    "     - 可以返回指定的单一object \n",
    "3. subscription ::=  primary \"[\" expression_list \"]\"\n",
    "   + 对象订阅功能\n",
    "   + 对象类型实现或重载--getitem--()方法就支持订阅功能\n",
    "   + 支持订阅功能的built-in类型\n",
    "     - Mappings: 支持用key取得订阅的内部object, 例如dict\n",
    "     - Sequences: 支持用int索引取得订阅的内部object, 例如str, list, tuple\n",
    "   + 生成运行时object被订阅的object, 是单一object返回\n",
    "   + 重载--getitem--()方法\n",
    "     - 可以支持复杂参数输入\n",
    "     - 可以支持在方法内部数据处理\n",
    "     - 可以返回指定的单一object\n",
    "4. slicing ::=  primary \"[\" slice_list \"]\"\n",
    "   + 对象切片功能\n",
    "   + 只有Sequences类型支持对象切片功能\n",
    "   + 使用\",\"形成tuple用于取得多维的切片\n",
    "   + list和tuple都只能取一维的切片\n",
    "   + [lower_bound] \":\" [upper_bound] [ \":\" [stride] ]\n",
    "   + 使用\" : : \"来取得一维中的切片\n",
    "5. call ::=  primary \"(\" [argument_list [\",\"] | comprehension] \")\"\n",
    "   + 对象函数调用\n",
    "   + argument_list后的逗号是可选的trailing comma\n",
    "   + 实现--call--()的对象为callable object, 都可以运行对象函数调用来返回新的object"
   ],
   "metadata": {
    "collapsed": false
   },
   "id": "f3fe75634b7ff6c2"
  },
  {
   "cell_type": "markdown",
   "source": [
    "Primaries代表了python通过evaluate代码段在内存中生成对象的操作\n",
    "+ atom       : eval - 生成最简单的object\n",
    "+ object.xxx : eval - 生成属性引用的object\n",
    "+ object(xxx): eval - 生成函数调用返回的object\n",
    "+ object[xxx]: eval - 生成订阅的object\n",
    "+ object[:,:]: eval - 生成切片的object"
   ],
   "metadata": {
    "collapsed": false
   },
   "id": "e34c042357f906fc"
  },
  {
   "cell_type": "code",
   "execution_count": 1,
   "outputs": [
    {
     "name": "stdout",
     "output_type": "stream",
     "text": [
      "[[0, 5, 0], [1, 6, 3], [2, 7, 6], [3, 8, 9]]\n",
      "[1, 6, 3, 4]\n",
      "[[0, 5, 0], [1, 6, 3, 4], [2, 7, 6], [3, 8, 9]]\n"
     ]
    }
   ],
   "source": [
    "x = [[y := x, y + 5, y * 3] for x in range(4)]\n",
    "print(x)\n",
    "y = x[1]\n",
    "y.append(4)\n",
    "print(y)\n",
    "print(x)"
   ],
   "metadata": {
    "collapsed": false,
    "ExecuteTime": {
     "end_time": "2023-10-24T07:48:22.997566Z",
     "start_time": "2023-10-24T07:48:22.986937Z"
    }
   },
   "id": "f10d79a507dfa07"
  },
  {
   "cell_type": "code",
   "execution_count": 1,
   "outputs": [],
   "source": [],
   "metadata": {
    "collapsed": false,
    "ExecuteTime": {
     "end_time": "2023-10-24T07:48:22.998472Z",
     "start_time": "2023-10-24T07:48:22.994996Z"
    }
   },
   "id": "2b86f4138730b60a"
  }
 ],
 "metadata": {
  "kernelspec": {
   "display_name": "Python 3",
   "language": "python",
   "name": "python3"
  },
  "language_info": {
   "codemirror_mode": {
    "name": "ipython",
    "version": 2
   },
   "file_extension": ".py",
   "mimetype": "text/x-python",
   "name": "python",
   "nbconvert_exporter": "python",
   "pygments_lexer": "ipython2",
   "version": "2.7.6"
  }
 },
 "nbformat": 4,
 "nbformat_minor": 5
}
