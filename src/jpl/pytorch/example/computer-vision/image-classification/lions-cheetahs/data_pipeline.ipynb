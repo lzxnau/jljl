{
 "cells": [
  {
   "cell_type": "markdown",
   "source": [
    "# Data Pipeline"
   ],
   "metadata": {
    "collapsed": false
   },
   "id": "ff9e0af1cbd37ce5"
  },
  {
   "cell_type": "code",
   "execution_count": null,
   "outputs": [],
   "source": [
    "from JLPy.pytorch.example.cv.ic.lions_cheetahs import ImgsDataset\n",
    "\n"
   ],
   "metadata": {
    "collapsed": false
   },
   "id": "1361ad38c53e95ba"
  }
 ],
 "metadata": {
  "kernelspec": {
   "display_name": "Python 3",
   "language": "python",
   "name": "python3"
  },
  "language_info": {
   "codemirror_mode": {
    "name": "ipython",
    "version": 2
   },
   "file_extension": ".py",
   "mimetype": "text/x-python",
   "name": "python",
   "nbconvert_exporter": "python",
   "pygments_lexer": "ipython2",
   "version": "2.7.6"
  }
 },
 "nbformat": 4,
 "nbformat_minor": 5
}
