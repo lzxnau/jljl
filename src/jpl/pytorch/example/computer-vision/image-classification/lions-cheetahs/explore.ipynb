{
 "cells": [
  {
   "cell_type": "markdown",
   "source": [
    "# Explore Source Data"
   ],
   "metadata": {
    "collapsed": false
   },
   "id": "aa39816efb70e379"
  },
  {
   "cell_type": "code",
   "execution_count": 1,
   "outputs": [],
   "source": [
    "\"\"\"\n",
    "Lion and cheetah image classification example.\n",
    "\n",
    "Classify lion or cheetah images using a pre-trained Deep Learning model with\n",
    "the PyTorch framework.\n",
    "\n",
    ":Authors: JLPy\n",
    ":Version: 2023.11.01.01\n",
    "\n",
    "\"\"\"\n",
    "\n",
    "import os\n",
    "from os.path import (\n",
    "  join,\n",
    "  isfile\n",
    ")\n",
    "import pandas as pd\n",
    "import seaborn as sns\n",
    "\n",
    "\n",
    "class cfg:\n",
    "  \"\"\"\n",
    "  Static configurations for the project.\n",
    "  \n",
    "  :Cls prj_path: Project's working directory on the hard drive.\n",
    "  :Cls img_path: The directory of the images under the project folder.\n",
    "  :Cls sub_dirs: A list of the image directories for lions and cheetahs.\n",
    "  :Cls labels: 0 refers to lion and 1 refers to cheetah.\n",
    "  \n",
    "  .. card::\n",
    "  \"\"\"\n",
    "  \n",
    "  prj_path = os.environ.get(\"JLPy_Path\")\n",
    "  img_path = 'res/images'\n",
    "  sub_dirs = ('Lions', 'Cheetahs')\n",
    "  labels = (0, 1)\n",
    "\n",
    "\n",
    "class Explore:\n",
    "  \"\"\"\n",
    "  Prepare and Explore Data.\n",
    "  \n",
    "  This is the first step to explore the source data and to become familiar with\n",
    "  the data.\n",
    "  \n",
    "  :Ins df: A pandas dataframe to store all file records with two columns\\\n",
    "           file_path and label.\n",
    "            \n",
    "  .. card::\n",
    "  \"\"\"\n",
    "  \n",
    "  def __init__(self) -> None:\n",
    "    \"\"\"\n",
    "    Explore class constractor.\n",
    "    \n",
    "    Load the data into an instance of this class.\n",
    "    \"\"\"\n",
    "    \n",
    "    data = []\n",
    "    sub_paths = [join(cfg.prj_path, cfg.img_path, x) for x in cfg.sub_dirs]\n",
    "    for s, l in zip(sub_paths, cfg.labels):\n",
    "      for f in os.listdir(s):\n",
    "        if '.jpg' in f and isfile(d := join(s, f)):\n",
    "          data.append((d, l))\n",
    "    self.df = pd.DataFrame(data, columns=['file_path', 'label'])\n",
    "  \n",
    "  def countBar(self, col: str) -> None:\n",
    "    \"\"\"\n",
    "    Show count plot from the column for classification.\n",
    "    \n",
    "    :param col: The column name from dataframe for classification.\n",
    "    :type col: str\n",
    "    \"\"\"\n",
    "    \n",
    "    sns.countplot(self.df, x=col)\n",
    "\n",
    "\n",
    "if __name__ == '__main__':\n",
    "  ex = Explore()"
   ],
   "metadata": {
    "collapsed": false,
    "ExecuteTime": {
     "end_time": "2023-11-02T00:16:38.160135Z",
     "start_time": "2023-11-02T00:16:38.150809Z"
    }
   },
   "id": "ce38028dc5cb735c"
  },
  {
   "cell_type": "code",
   "execution_count": 2,
   "outputs": [
    {
     "data": {
      "text/plain": "<Figure size 640x480 with 1 Axes>",
      "image/png": "[encoded data removed]"
     },
     "metadata": {},
     "output_type": "display_data"
    }
   ],
   "source": [
    "  ex.countBar('label')"
   ],
   "metadata": {
    "collapsed": false,
    "ExecuteTime": {
     "end_time": "2023-11-02T00:16:38.292060Z",
     "start_time": "2023-11-02T00:16:38.157426Z"
    }
   },
   "id": "88f514c57f13057a"
  }
 ],
 "metadata": {
  "kernelspec": {
   "display_name": "Python 3 (ipykernel)",
   "language": "python",
   "name": "python3"
  },
  "language_info": {
   "codemirror_mode": {
    "name": "ipython",
    "version": 3
   },
   "file_extension": ".py",
   "mimetype": "text/x-python",
   "name": "python",
   "nbconvert_exporter": "python",
   "pygments_lexer": "ipython3",
   "version": "3.11.6"
  }
 },
 "nbformat": 4,
 "nbformat_minor": 5
}
